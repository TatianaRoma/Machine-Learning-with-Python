{
 "cells": [
  {
   "cell_type": "markdown",
   "metadata": {},
   "source": [
    "#COS575 Lab 6\n",
    "##Tatiana Romanchishina"
   ]
  },
  {
   "cell_type": "code",
   "execution_count": 1,
   "metadata": {
    "collapsed": false
   },
   "outputs": [
    {
     "data": {
      "text/html": [
       "<div>\n",
       "<table border=\"1\" class=\"dataframe\">\n",
       "  <thead>\n",
       "    <tr style=\"text-align: right;\">\n",
       "      <th></th>\n",
       "      <th>STATECODE</th>\n",
       "      <th>COUNTYCODE</th>\n",
       "      <th>State</th>\n",
       "      <th>County</th>\n",
       "      <th>Premature_death_Value</th>\n",
       "      <th>Poor_or_fair_health_Value</th>\n",
       "      <th>Poor_physical_health_days_Value</th>\n",
       "      <th>Poor_mental_health_days_Value</th>\n",
       "      <th>Low_birthweight_Value</th>\n",
       "      <th>Adult_smoking_Value</th>\n",
       "      <th>...</th>\n",
       "      <th>Uninsured_adults_Value</th>\n",
       "      <th>Uninsured_children_Value</th>\n",
       "      <th>Health_care_costs_Value</th>\n",
       "      <th>Could_not_see_doctor_due_to_cost_Value</th>\n",
       "      <th>Other_primary_care_providers_Value</th>\n",
       "      <th>Median_household_income_Value</th>\n",
       "      <th>Children_eligible_for_free_lunch_Value</th>\n",
       "      <th>Homicide_rate_Value</th>\n",
       "      <th>bottom10</th>\n",
       "      <th>top10</th>\n",
       "    </tr>\n",
       "  </thead>\n",
       "  <tbody>\n",
       "    <tr>\n",
       "      <th>0</th>\n",
       "      <td>1</td>\n",
       "      <td>0</td>\n",
       "      <td>AL</td>\n",
       "      <td>Alabama</td>\n",
       "      <td>9508</td>\n",
       "      <td>0.205</td>\n",
       "      <td>4.3</td>\n",
       "      <td>4.3</td>\n",
       "      <td>0.10</td>\n",
       "      <td>0.219</td>\n",
       "      <td>...</td>\n",
       "      <td>0.202</td>\n",
       "      <td>0.043</td>\n",
       "      <td>10127</td>\n",
       "      <td>0.163</td>\n",
       "      <td>48</td>\n",
       "      <td>42882</td>\n",
       "      <td>0.500</td>\n",
       "      <td>9.1</td>\n",
       "      <td>0</td>\n",
       "      <td>0</td>\n",
       "    </tr>\n",
       "    <tr>\n",
       "      <th>1</th>\n",
       "      <td>1</td>\n",
       "      <td>1</td>\n",
       "      <td>AL</td>\n",
       "      <td>Autauga County</td>\n",
       "      <td>8405</td>\n",
       "      <td>0.228</td>\n",
       "      <td>5.1</td>\n",
       "      <td>3.6</td>\n",
       "      <td>0.09</td>\n",
       "      <td>0.217</td>\n",
       "      <td>...</td>\n",
       "      <td>0.169</td>\n",
       "      <td>0.037</td>\n",
       "      <td>9939</td>\n",
       "      <td>0.156</td>\n",
       "      <td>18</td>\n",
       "      <td>51868</td>\n",
       "      <td>0.383</td>\n",
       "      <td>4.6</td>\n",
       "      <td>0</td>\n",
       "      <td>0</td>\n",
       "    </tr>\n",
       "    <tr>\n",
       "      <th>2</th>\n",
       "      <td>1</td>\n",
       "      <td>3</td>\n",
       "      <td>AL</td>\n",
       "      <td>Baldwin County</td>\n",
       "      <td>7457</td>\n",
       "      <td>0.127</td>\n",
       "      <td>3.3</td>\n",
       "      <td>3.8</td>\n",
       "      <td>0.09</td>\n",
       "      <td>0.206</td>\n",
       "      <td>...</td>\n",
       "      <td>0.199</td>\n",
       "      <td>0.054</td>\n",
       "      <td>9502</td>\n",
       "      <td>0.144</td>\n",
       "      <td>29</td>\n",
       "      <td>47539</td>\n",
       "      <td>0.344</td>\n",
       "      <td>4.3</td>\n",
       "      <td>0</td>\n",
       "      <td>0</td>\n",
       "    </tr>\n",
       "    <tr>\n",
       "      <th>3</th>\n",
       "      <td>1</td>\n",
       "      <td>5</td>\n",
       "      <td>AL</td>\n",
       "      <td>Barbour County</td>\n",
       "      <td>8901</td>\n",
       "      <td>0.234</td>\n",
       "      <td>4.8</td>\n",
       "      <td>4.3</td>\n",
       "      <td>0.12</td>\n",
       "      <td>0.251</td>\n",
       "      <td>...</td>\n",
       "      <td>0.228</td>\n",
       "      <td>0.045</td>\n",
       "      <td>10414</td>\n",
       "      <td>0.169</td>\n",
       "      <td>11</td>\n",
       "      <td>30981</td>\n",
       "      <td>0.697</td>\n",
       "      <td>NaN</td>\n",
       "      <td>0</td>\n",
       "      <td>0</td>\n",
       "    </tr>\n",
       "    <tr>\n",
       "      <th>4</th>\n",
       "      <td>1</td>\n",
       "      <td>7</td>\n",
       "      <td>AL</td>\n",
       "      <td>Bibb County</td>\n",
       "      <td>10729</td>\n",
       "      <td>0.179</td>\n",
       "      <td>4.7</td>\n",
       "      <td>5.1</td>\n",
       "      <td>0.13</td>\n",
       "      <td>0.259</td>\n",
       "      <td>...</td>\n",
       "      <td>0.193</td>\n",
       "      <td>0.042</td>\n",
       "      <td>10825</td>\n",
       "      <td>0.163</td>\n",
       "      <td>9</td>\n",
       "      <td>39781</td>\n",
       "      <td>0.546</td>\n",
       "      <td>7.8</td>\n",
       "      <td>0</td>\n",
       "      <td>0</td>\n",
       "    </tr>\n",
       "  </tbody>\n",
       "</table>\n",
       "<p>5 rows × 70 columns</p>\n",
       "</div>"
      ],
      "text/plain": [
       "   STATECODE  COUNTYCODE State          County  Premature_death_Value  \\\n",
       "0          1           0    AL         Alabama                   9508   \n",
       "1          1           1    AL  Autauga County                   8405   \n",
       "2          1           3    AL  Baldwin County                   7457   \n",
       "3          1           5    AL  Barbour County                   8901   \n",
       "4          1           7    AL     Bibb County                  10729   \n",
       "\n",
       "   Poor_or_fair_health_Value  Poor_physical_health_days_Value  \\\n",
       "0                      0.205                              4.3   \n",
       "1                      0.228                              5.1   \n",
       "2                      0.127                              3.3   \n",
       "3                      0.234                              4.8   \n",
       "4                      0.179                              4.7   \n",
       "\n",
       "   Poor_mental_health_days_Value  Low_birthweight_Value  Adult_smoking_Value  \\\n",
       "0                            4.3                   0.10                0.219   \n",
       "1                            3.6                   0.09                0.217   \n",
       "2                            3.8                   0.09                0.206   \n",
       "3                            4.3                   0.12                0.251   \n",
       "4                            5.1                   0.13                0.259   \n",
       "\n",
       "   ...    Uninsured_adults_Value  Uninsured_children_Value  \\\n",
       "0  ...                     0.202                     0.043   \n",
       "1  ...                     0.169                     0.037   \n",
       "2  ...                     0.199                     0.054   \n",
       "3  ...                     0.228                     0.045   \n",
       "4  ...                     0.193                     0.042   \n",
       "\n",
       "   Health_care_costs_Value  Could_not_see_doctor_due_to_cost_Value  \\\n",
       "0                    10127                                   0.163   \n",
       "1                     9939                                   0.156   \n",
       "2                     9502                                   0.144   \n",
       "3                    10414                                   0.169   \n",
       "4                    10825                                   0.163   \n",
       "\n",
       "   Other_primary_care_providers_Value  Median_household_income_Value  \\\n",
       "0                                  48                          42882   \n",
       "1                                  18                          51868   \n",
       "2                                  29                          47539   \n",
       "3                                  11                          30981   \n",
       "4                                   9                          39781   \n",
       "\n",
       "   Children_eligible_for_free_lunch_Value  Homicide_rate_Value  bottom10  \\\n",
       "0                                   0.500                  9.1         0   \n",
       "1                                   0.383                  4.6         0   \n",
       "2                                   0.344                  4.3         0   \n",
       "3                                   0.697                  NaN         0   \n",
       "4                                   0.546                  7.8         0   \n",
       "\n",
       "   top10  \n",
       "0      0  \n",
       "1      0  \n",
       "2      0  \n",
       "3      0  \n",
       "4      0  \n",
       "\n",
       "[5 rows x 70 columns]"
      ]
     },
     "execution_count": 1,
     "metadata": {},
     "output_type": "execute_result"
    }
   ],
   "source": [
    "# load numpy and pandas for data manipulation\n",
    "import numpy as np\n",
    "import pandas as pd\n",
    "import matplotlib.pyplot as plt\n",
    "%matplotlib inline\n",
    "#%pylab inline\n",
    "\n",
    "from pylab import *\n",
    "\n",
    "# load statsmodels\n",
    "import statsmodels.api as sm\n",
    "\n",
    "from sklearn import metrics\n",
    "\n",
    "from sklearn.linear_model import LogisticRegression\n",
    "from sklearn.lda import LDA\n",
    "from sklearn.neighbors import KNeighborsClassifier\n",
    "\n",
    "from collections import OrderedDict\n",
    "from sklearn.preprocessing import StandardScaler\n",
    "from sklearn.datasets import make_moons, make_circles, make_classification\n",
    "from sklearn.cross_validation import train_test_split\n",
    "from sklearn.metrics import confusion_matrix as sk_confusion_matrix\n",
    "from patsy import dmatrices\n",
    "from sklearn.cross_validation import cross_val_score\n",
    "from sklearn import preprocessing\n",
    "\n",
    "\n",
    "# load the data\n",
    "path = r'CHR2015.csv'\n",
    "df = pd.read_csv(path)\n",
    "df.head()"
   ]
  },
  {
   "cell_type": "code",
   "execution_count": 2,
   "metadata": {
    "collapsed": false
   },
   "outputs": [
    {
     "name": "stdout",
     "output_type": "stream",
     "text": [
      "1524 1524 (3048, 71)\n"
     ]
    }
   ],
   "source": [
    "# add the response column \n",
    "df['aboveMedianPDV'] = [1 if d <= np.median(df['Premature_death_Value']) else 0 for d in df['Premature_death_Value']]\n",
    "print(len(df[df.aboveMedianPDV == 0]), len(df[df.aboveMedianPDV == 1]), df.shape)"
   ]
  },
  {
   "cell_type": "code",
   "execution_count": 3,
   "metadata": {
    "collapsed": false
   },
   "outputs": [
    {
     "data": {
      "text/plain": [
       "Adult_smoking_Value          0\n",
       "Adult_obesity_Value          0\n",
       "Physical_inactivity_Value    0\n",
       "Diabetes_Value               0\n",
       "Teen_births_Value            0\n",
       "dtype: int64"
      ]
     },
     "execution_count": 3,
     "metadata": {},
     "output_type": "execute_result"
    }
   ],
   "source": [
    "# remove NaNs\n",
    "df_fix = df[~np.isnan(df.Adult_smoking_Value) & ~np.isnan(df.Adult_obesity_Value) &\n",
    "           ~np.isnan(df.Physical_inactivity_Value) & ~np.isnan(df.Diabetes_Value) &\n",
    "            ~np.isnan(df.Teen_births_Value) & ~np.isnan(df.aboveMedianPDV)]\n",
    "df_fix = df_fix.reset_index(drop=True)\n",
    "df_fix[['Adult_smoking_Value', 'Adult_obesity_Value', 'Physical_inactivity_Value', \n",
    "             'Diabetes_Value', 'Teen_births_Value']].isnull().sum()"
   ]
  },
  {
   "cell_type": "code",
   "execution_count": 4,
   "metadata": {
    "collapsed": true
   },
   "outputs": [],
   "source": [
    "# create dataframes with an intercept column\n",
    "y, X = dmatrices('aboveMedianPDV ~ Adult_smoking_Value + Adult_obesity_Value + \\\n",
    "                 Physical_inactivity_Value + Diabetes_Value + \\\n",
    "                 Teen_births_Value',\n",
    "                df_fix, return_type=\"dataframe\")\n",
    "# flatten y into a 1-D array\n",
    "#y = np.ravel(y) #OR\n",
    "y = y.values.flatten()"
   ]
  },
  {
   "cell_type": "markdown",
   "metadata": {},
   "source": [
    "####We ran the KNN algorithm, but we were unsure about the number of neighbors to include. With the above tutorials, we now have the techniques to make that choice. Select one of your KNN runs (with some subset of predictors) and determine the best value for the number of neighbors. \n",
    "####Plot ‘# of neighbors’ vs. train and test accuracy\n",
    "\n",
    "##### Note: This can be done by either using two separate plots or by using one plot with  different formatting styles to distinguish the Y values. "
   ]
  },
  {
   "cell_type": "code",
   "execution_count": 5,
   "metadata": {
    "collapsed": false
   },
   "outputs": [],
   "source": [
    "# obtain train and test errors for different ks\n",
    "ks = [1,5,10,25,50,75,100]\n",
    "train_errs = {}\n",
    "test_errs = {}\n",
    "for k in ks:\n",
    "    X_train, X_test, y_train, y_test = train_test_split(X, y, \n",
    "                                        test_size=.4, random_state=1)\n",
    "    model = KNeighborsClassifier(n_neighbors=k)\n",
    "    \n",
    "    train_errs[k] = 1 - model.fit(X_train, y_train).score(X_train, y_train)\n",
    "    \n",
    "    predicted = model.predict(X_test)\n",
    "    test_errs[k] = 1 - metrics.accuracy_score(y_test, predicted)\n"
   ]
  },
  {
   "cell_type": "code",
   "execution_count": 6,
   "metadata": {
    "collapsed": false
   },
   "outputs": [
    {
     "data": {
      "image/png": "[encoded data removed]",
      "text/plain": [
       "<matplotlib.figure.Figure at 0x10940fa58>"
      ]
     },
     "metadata": {},
     "output_type": "display_data"
    }
   ],
   "source": [
    "# plot train and test errors \n",
    "plt.plot(ks, list(train_errs.values()), label = \"Train Error\")\n",
    "plt.plot(ks, list(test_errs.values()), label = \"Test Error\")\n",
    "plt.legend(bbox_to_anchor=(1.05, 1), loc=2, borderaxespad=0.)\n",
    "plt.xlabel(\"Number of nearest neighbors\")\n",
    "plt.show()"
   ]
  },
  {
   "cell_type": "markdown",
   "metadata": {},
   "source": [
    "####We will now consider the calculating estimates of the mean & median for Premature_death_Value. Based on this data set, provide an estimate for the population mean of Premature_death_value. Call this estimate μ_est."
   ]
  },
  {
   "cell_type": "code",
   "execution_count": 7,
   "metadata": {
    "collapsed": false
   },
   "outputs": [
    {
     "data": {
      "text/plain": [
       "7980.833989501312"
      ]
     },
     "execution_count": 7,
     "metadata": {},
     "output_type": "execute_result"
    }
   ],
   "source": [
    "mu_est = mean(df.Premature_death_Value)\n",
    "mu_est"
   ]
  },
  {
   "cell_type": "markdown",
   "metadata": {},
   "source": [
    "####Provide an estimate of the standard error of μ_est. Interpret this result. Hint: We can compute the standard error of the sample mean by dividing the sample standard deviation by the square root of the number of observations."
   ]
  },
  {
   "cell_type": "code",
   "execution_count": 8,
   "metadata": {
    "collapsed": false
   },
   "outputs": [
    {
     "data": {
      "text/plain": [
       "3048"
      ]
     },
     "execution_count": 8,
     "metadata": {},
     "output_type": "execute_result"
    }
   ],
   "source": [
    "shape(df)[0]"
   ]
  },
  {
   "cell_type": "code",
   "execution_count": 9,
   "metadata": {
    "collapsed": false
   },
   "outputs": [
    {
     "data": {
      "text/plain": [
       "43.649083693037788"
      ]
     },
     "execution_count": 9,
     "metadata": {},
     "output_type": "execute_result"
    }
   ],
   "source": [
    "# 2 --> divide std dev by the sq rt of # of rows\n",
    "se_mu_prem = np.std(df.Premature_death_Value)/sqrt(shape(df)[0])\n",
    "se_mu_prem"
   ]
  },
  {
   "cell_type": "markdown",
   "metadata": {},
   "source": [
    "####Now estimate the standard error of μ_est using the bootstrap. How does this compare to your answer from (b)?\n",
    "#####Note: Instructions for bootstrapping are not explicitly given in the tutorial. You will need to create your own implementation (there are a variety of ways to do so). \n",
    "\n",
    "####Section 5.2 of ISLR discusses the concept of the bootstrap in detail."
   ]
  },
  {
   "cell_type": "code",
   "execution_count": 10,
   "metadata": {
    "collapsed": false
   },
   "outputs": [
    {
     "data": {
      "text/plain": [
       "43.653687352299961"
      ]
     },
     "execution_count": 10,
     "metadata": {},
     "output_type": "execute_result"
    }
   ],
   "source": [
    "def boot_fn(data, num_samples, stat):\n",
    "    total_stat = 0;\n",
    "    for n in range(num_samples):\n",
    "        new_data = np.random.choice(df.Premature_death_Value, \n",
    "                                    shape(df)[0], replace = True)\n",
    "        total_stat += stat(new_data)/sqrt(shape(df)[0])\n",
    "    return total_stat/num_samples\n",
    "se_mu_prem = boot_fn(df.Premature_death_Value, 1000, np.std)\n",
    "se_mu_prem"
   ]
  },
  {
   "cell_type": "markdown",
   "metadata": {},
   "source": [
    "####Based on your bootstrap estimate from (c), provide a 95% confidence interval for the mean of Premature_death_value. Compare it to the results obtained using a t-test. Hint: You can approximate a 95% confidence interval using the formula [μ_est − 2SE(μ_est), μ + 2SE(μ_est)]."
   ]
  },
  {
   "cell_type": "code",
   "execution_count": 11,
   "metadata": {
    "collapsed": false
   },
   "outputs": [
    {
     "data": {
      "text/plain": [
       "[7894.0, 8068.0]"
      ]
     },
     "execution_count": 11,
     "metadata": {},
     "output_type": "execute_result"
    }
   ],
   "source": [
    "#approximate a 95% confidence interval using \n",
    "#the formula [μ_est − 2SE(μ_est), μ + 2SE(μ_est)]\n",
    "ci = [round(mu_est - 2*se_mu_prem), round(mu_est + 2*se_mu_prem)]\n",
    "ci"
   ]
  },
  {
   "cell_type": "code",
   "execution_count": 12,
   "metadata": {
    "collapsed": false
   },
   "outputs": [
    {
     "data": {
      "text/plain": [
       "(-0.42283772912167839, 0.67244349657720937)"
      ]
     },
     "execution_count": 12,
     "metadata": {},
     "output_type": "execute_result"
    }
   ],
   "source": [
    "from scipy import stats\n",
    "\n",
    "## perform 1-sample t-test\n",
    "# first arg is the data, second - the null hypothesis mean\n",
    "# the test returns the difference, plus corresponding p-value\n",
    "stats.ttest_1samp(np.random.choice(df.Premature_death_Value, \n",
    "                                   shape(df)[0], replace = True), mu_est)\n",
    "## the p-value is large so we fail to reject\n",
    "## the null hypothesis that the sample mean is different from the estimated mean\n",
    "## thus our estimate holds"
   ]
  },
  {
   "cell_type": "markdown",
   "metadata": {},
   "source": [
    "####Based on this data set, provide an estimate, μPDV, for the median value of Premature_death_value in a community. We now would like to estimate the standard error of μPDV. Unfortunately, there is no simple formula for computing the standard error of the median. Instead, estimate the standard error of the median using the bootstrap. Comment on your findings."
   ]
  },
  {
   "cell_type": "code",
   "execution_count": 13,
   "metadata": {
    "collapsed": false
   },
   "outputs": [
    {
     "data": {
      "text/plain": [
       "7666.5"
      ]
     },
     "execution_count": 13,
     "metadata": {},
     "output_type": "execute_result"
    }
   ],
   "source": [
    "# median estimate\n",
    "med_pdv = df.Premature_death_Value.median()\n",
    "med_pdv"
   ]
  },
  {
   "cell_type": "code",
   "execution_count": 14,
   "metadata": {
    "collapsed": false
   },
   "outputs": [
    {
     "data": {
      "text/plain": [
       "1.4676056104246806"
      ]
     },
     "execution_count": 14,
     "metadata": {},
     "output_type": "execute_result"
    }
   ],
   "source": [
    "def boot_fn1(data, num_samples, stat):\n",
    "    medians = []\n",
    "    for n in range(num_samples):\n",
    "        new_data = np.random.choice(df.Premature_death_Value, shape(df)[0], replace = True)\n",
    "        medians.append(np.median(new_data))\n",
    "    return stat(medians)/sqrt(len(medians))\n",
    "se_med_prem = boot_fn1(df.Premature_death_Value, 1000, np.std)\n",
    "se_med_prem"
   ]
  },
  {
   "cell_type": "markdown",
   "metadata": {},
   "source": [
    "####Based on this data set, provide an estimate for the tenth percentile of μPDV in communities. Call this quantity μ0.1. Use the bootstrap to estimate the standard error of μ0.1. Comment on your findings."
   ]
  },
  {
   "cell_type": "code",
   "execution_count": 16,
   "metadata": {
    "collapsed": false
   },
   "outputs": [
    {
     "data": {
      "text/plain": [
       "5239.1000000000004"
      ]
     },
     "execution_count": 16,
     "metadata": {},
     "output_type": "execute_result"
    }
   ],
   "source": [
    "mu_01 = np.percentile(df.Premature_death_Value, 10)\n",
    "mu_01"
   ]
  },
  {
   "cell_type": "code",
   "execution_count": 17,
   "metadata": {
    "collapsed": false
   },
   "outputs": [
    {
     "data": {
      "text/plain": [
       "1.4857072925041461"
      ]
     },
     "execution_count": 17,
     "metadata": {},
     "output_type": "execute_result"
    }
   ],
   "source": [
    "def boot_fn2(data, num_samples, stat):\n",
    "    mu_01 = 0\n",
    "    for n in range(num_samples):\n",
    "        new_data = np.random.choice(df.Premature_death_Value, shape(df)[0], \n",
    "                                    replace = True)\n",
    "        mu_01 += np.percentile(df.Premature_death_Value, 10)\n",
    "    return stat(mu_01)/sqrt(num_samples)\n",
    "se_mu01_prem = boot_fn1(df.Premature_death_Value, 1000, np.std)\n",
    "se_mu01_prem"
   ]
  }
 ],
 "metadata": {
  "kernelspec": {
   "display_name": "Python 3",
   "language": "python",
   "name": "python3"
  },
  "language_info": {
   "codemirror_mode": {
    "name": "ipython",
    "version": 3
   },
   "file_extension": ".py",
   "mimetype": "text/x-python",
   "name": "python",
   "nbconvert_exporter": "python",
   "pygments_lexer": "ipython3",
   "version": "3.4.3"
  }
 },
 "nbformat": 4,
 "nbformat_minor": 0
}
